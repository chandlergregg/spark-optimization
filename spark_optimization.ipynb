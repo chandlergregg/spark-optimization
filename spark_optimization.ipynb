{
 "cells": [
  {
   "cell_type": "code",
   "execution_count": 1,
   "metadata": {},
   "outputs": [],
   "source": [
    "import pyspark\n",
    "from pyspark.sql import SparkSession\n",
    "import pyspark.sql.functions as F\n",
    "\n",
    "# Start spark session\n",
    "spark = SparkSession.builder.appName('Spark optimization').getOrCreate()"
   ]
  },
  {
   "cell_type": "code",
   "execution_count": 2,
   "metadata": {},
   "outputs": [],
   "source": [
    "# Load data from Parquet into dataframes\n",
    "answersDF = spark.read.parquet(\"data/answers\")\n",
    "questionsDF = spark.read.parquet(\"data/questions\")"
   ]
  },
  {
   "cell_type": "code",
   "execution_count": 3,
   "metadata": {},
   "outputs": [
    {
     "name": "stdout",
     "output_type": "stream",
     "text": [
      "+-----------+-----+\n",
      "|partitionId|count|\n",
      "+-----------+-----+\n",
      "|        148|  380|\n",
      "|         31|  385|\n",
      "|         85|  379|\n",
      "|        137|  371|\n",
      "|         65|  365|\n",
      "|         53|  376|\n",
      "|        133|  364|\n",
      "|         78|  327|\n",
      "|        108|  355|\n",
      "|        155|  319|\n",
      "|         34|  393|\n",
      "|        193|  352|\n",
      "|        101|  377|\n",
      "|        115|  384|\n",
      "|        126|  372|\n",
      "|         81|  382|\n",
      "|         28|  377|\n",
      "|        183|  360|\n",
      "|         76|  374|\n",
      "|         26|  339|\n",
      "+-----------+-----+\n",
      "only showing top 20 rows\n",
      "\n",
      "\n",
      "answersDF has 4 partitions\n",
      "questionsDF has 4 partitions\n",
      "aggDF has 200 partitions\n",
      "\n"
     ]
    }
   ],
   "source": [
    "# Group answers by month and questionID to get answer_count\n",
    "aggDF_1 = answersDF.withColumn('month', F.month('creation_date')) \\\n",
    "    .groupBy('question_id', 'month') \\\n",
    "    .agg(F.count('*') \\\n",
    "    .alias('answer_count'))\n",
    "aggDF_1.withColumn(\"partitionId\", F.spark_partition_id()).groupBy(\"partitionId\").count().show()\n",
    "\n",
    "# Get number of partitions for each DF\n",
    "aggNumPartitions = aggDF_1.rdd.getNumPartitions()\n",
    "answersNumPartitions = answersDF.rdd.getNumPartitions()\n",
    "questionsNumPartitions = questionsDF.rdd.getNumPartitions()\n",
    "\n",
    "print(f\"\"\"\n",
    "answersDF has {answersNumPartitions} partitions\n",
    "questionsDF has {questionsNumPartitions} partitions\n",
    "aggDF has {aggNumPartitions} partitions\n",
    "\"\"\")"
   ]
  },
  {
   "cell_type": "markdown",
   "metadata": {},
   "source": [
    "### Choosing number of partitions\n",
    "\n",
    "As we can see from the above cell, our data has 200 partitions with a small amount of data per partition. Some of the partitions are pretty uneven too - partition 155 has 319 records while partition 34 has 393. Let's see if those partitions are more even if we choose 4 partitions to match the questionsDF and answersDF:"
   ]
  },
  {
   "cell_type": "code",
   "execution_count": 4,
   "metadata": {},
   "outputs": [
    {
     "name": "stdout",
     "output_type": "stream",
     "text": [
      "+-----------+-----+\n",
      "|partitionId|count|\n",
      "+-----------+-----+\n",
      "|        148|  380|\n",
      "|         31|  385|\n",
      "|         85|  379|\n",
      "|        137|  371|\n",
      "|         65|  365|\n",
      "|         53|  376|\n",
      "|        133|  364|\n",
      "|         78|  327|\n",
      "|        108|  355|\n",
      "|        155|  319|\n",
      "|         34|  393|\n",
      "|        193|  352|\n",
      "|        101|  377|\n",
      "|        115|  384|\n",
      "|        126|  372|\n",
      "|         81|  382|\n",
      "|         28|  377|\n",
      "|        183|  360|\n",
      "|         76|  374|\n",
      "|         26|  339|\n",
      "+-----------+-----+\n",
      "only showing top 20 rows\n",
      "\n",
      "+-----------+-----+\n",
      "|partitionId|count|\n",
      "+-----------+-----+\n",
      "|          1|18346|\n",
      "|          3|18165|\n",
      "|          2|18269|\n",
      "|          0|18245|\n",
      "+-----------+-----+\n",
      "\n"
     ]
    }
   ],
   "source": [
    "# Coalesce one of the DFs and show against un-coalesced DF\n",
    "aggDF_test = aggDF_1.coalesce(4)\n",
    "aggDF_1.withColumn(\"partitionId\", F.spark_partition_id()).groupBy(\"partitionId\").count().show()\n",
    "aggDF_test.withColumn(\"partitionId\", F.spark_partition_id()).groupBy(\"partitionId\").count().show()"
   ]
  },
  {
   "cell_type": "markdown",
   "metadata": {},
   "source": [
    "### Testing number of partitions and caching\n",
    "\n",
    "With 4 partitions, the number of records per partition is much more even. And having 4 partitions will make it easier to work with the questionsDF in the following steps, which also has 4 partitions. Caching the aggDF should also help because we use this DF again in the join against questionsDF.\n",
    "\n",
    "In the steps below, the results are computed 4 different ways:\n",
    "1. No caching, no coalescing\n",
    "2. Caching, no coalescing\n",
    "3. Caching and coalescing\n",
    "4. No caching, coalescing\n",
    "\n",
    "We can compare the execution times of each to find the optimal choice."
   ]
  },
  {
   "cell_type": "code",
   "execution_count": 5,
   "metadata": {},
   "outputs": [
    {
     "name": "stdout",
     "output_type": "stream",
     "text": [
      "+-----------+--------------------+--------------------+-----+------------+\n",
      "|question_id|       creation_date|               title|month|answer_count|\n",
      "+-----------+--------------------+--------------------+-----+------------+\n",
      "|     382738|2018-01-28 02:22:...|What is the pseud...|    1|           1|\n",
      "|     370717|2017-11-25 04:09:...|What is the defin...|   11|           1|\n",
      "|     339944|2017-06-17 16:32:...|Could gravitation...|    6|           3|\n",
      "|     233852|2016-02-04 16:19:...|When does travell...|    2|           2|\n",
      "|     173819|2015-04-02 11:56:...|Finding Magnetic ...|    4|           1|\n",
      "|     265198|2016-06-28 10:56:...|Physical meaning ...|    6|           2|\n",
      "|     175015|2015-04-08 21:24:...|Understanding a m...|    4|           1|\n",
      "|     413973|2018-06-27 09:29:...|Incorporate spino...|    6|           1|\n",
      "|     303670|2017-01-08 01:05:...|A Wilson line pro...|    1|           1|\n",
      "|     317368|2017-03-08 14:53:...|Shouldn't Torsion...|    3|           1|\n",
      "|     369982|2017-11-20 22:11:...|Incompressible in...|   11|           2|\n",
      "|     239745|2016-02-25 03:51:...|Is this correct? ...|    2|           3|\n",
      "|     412294|2018-06-17 20:46:...|Is electron/photo...|    6|           1|\n",
      "|     239505|2016-02-24 05:51:...|conditions for so...|    2|           1|\n",
      "|     300744|2016-12-24 13:14:...|Maxwell equations...|   12|           2|\n",
      "|     217315|2015-11-08 04:13:...|Is the direction ...|   11|           3|\n",
      "|     334778|2017-05-22 09:58:...|Why are fluctatio...|    5|           1|\n",
      "|     168536|2015-03-05 03:52:...|Why is it hard to...|    3|           2|\n",
      "|     168536|2015-03-05 03:52:...|Why is it hard to...|    4|           1|\n",
      "|     418851|2018-07-21 22:45:...|What is the diffe...|    7|           1|\n",
      "+-----------+--------------------+--------------------+-----+------------+\n",
      "only showing top 20 rows\n",
      "\n"
     ]
    }
   ],
   "source": [
    "# 1. No caching, no coalescing\n",
    "result_1_DF = questionsDF.join(aggDF_1, 'question_id') \\\n",
    "    .select('question_id', 'creation_date', 'title', 'month', 'answer_count')\n",
    "result_1_DF.show()"
   ]
  },
  {
   "cell_type": "code",
   "execution_count": 6,
   "metadata": {},
   "outputs": [
    {
     "name": "stdout",
     "output_type": "stream",
     "text": [
      "+-----------+--------------------+--------------------+-----+------------+\n",
      "|question_id|       creation_date|               title|month|answer_count|\n",
      "+-----------+--------------------+--------------------+-----+------------+\n",
      "|     382738|2018-01-28 02:22:...|What is the pseud...|    1|           1|\n",
      "|     370717|2017-11-25 04:09:...|What is the defin...|   11|           1|\n",
      "|     339944|2017-06-17 16:32:...|Could gravitation...|    6|           3|\n",
      "|     233852|2016-02-04 16:19:...|When does travell...|    2|           2|\n",
      "|     173819|2015-04-02 11:56:...|Finding Magnetic ...|    4|           1|\n",
      "|     265198|2016-06-28 10:56:...|Physical meaning ...|    6|           2|\n",
      "|     175015|2015-04-08 21:24:...|Understanding a m...|    4|           1|\n",
      "|     413973|2018-06-27 09:29:...|Incorporate spino...|    6|           1|\n",
      "|     303670|2017-01-08 01:05:...|A Wilson line pro...|    1|           1|\n",
      "|     317368|2017-03-08 14:53:...|Shouldn't Torsion...|    3|           1|\n",
      "|     369982|2017-11-20 22:11:...|Incompressible in...|   11|           2|\n",
      "|     239745|2016-02-25 03:51:...|Is this correct? ...|    2|           3|\n",
      "|     412294|2018-06-17 20:46:...|Is electron/photo...|    6|           1|\n",
      "|     239505|2016-02-24 05:51:...|conditions for so...|    2|           1|\n",
      "|     300744|2016-12-24 13:14:...|Maxwell equations...|   12|           2|\n",
      "|     217315|2015-11-08 04:13:...|Is the direction ...|   11|           3|\n",
      "|     334778|2017-05-22 09:58:...|Why are fluctatio...|    5|           1|\n",
      "|     168536|2015-03-05 03:52:...|Why is it hard to...|    3|           2|\n",
      "|     168536|2015-03-05 03:52:...|Why is it hard to...|    4|           1|\n",
      "|     418851|2018-07-21 22:45:...|What is the diffe...|    7|           1|\n",
      "+-----------+--------------------+--------------------+-----+------------+\n",
      "only showing top 20 rows\n",
      "\n"
     ]
    }
   ],
   "source": [
    "# 2. Caching, no coalescing\n",
    "aggDF_2 = aggDF_1.cache()\n",
    "result_2_DF = questionsDF.join(aggDF_2, 'question_id') \\\n",
    "    .select('question_id', 'creation_date', 'title', 'month', 'answer_count')\n",
    "result_2_DF.show()"
   ]
  },
  {
   "cell_type": "code",
   "execution_count": 9,
   "metadata": {},
   "outputs": [
    {
     "name": "stdout",
     "output_type": "stream",
     "text": [
      "+-----------+--------------------+--------------------+-----+------------+\n",
      "|question_id|       creation_date|               title|month|answer_count|\n",
      "+-----------+--------------------+--------------------+-----+------------+\n",
      "|     382738|2018-01-28 02:22:...|What is the pseud...|    1|           1|\n",
      "|     370717|2017-11-25 04:09:...|What is the defin...|   11|           1|\n",
      "|     339944|2017-06-17 16:32:...|Could gravitation...|    6|           3|\n",
      "|     233852|2016-02-04 16:19:...|When does travell...|    2|           2|\n",
      "|     173819|2015-04-02 11:56:...|Finding Magnetic ...|    4|           1|\n",
      "|     265198|2016-06-28 10:56:...|Physical meaning ...|    6|           2|\n",
      "|     175015|2015-04-08 21:24:...|Understanding a m...|    4|           1|\n",
      "|     413973|2018-06-27 09:29:...|Incorporate spino...|    6|           1|\n",
      "|     303670|2017-01-08 01:05:...|A Wilson line pro...|    1|           1|\n",
      "|     317368|2017-03-08 14:53:...|Shouldn't Torsion...|    3|           1|\n",
      "|     369982|2017-11-20 22:11:...|Incompressible in...|   11|           2|\n",
      "|     239745|2016-02-25 03:51:...|Is this correct? ...|    2|           3|\n",
      "|     412294|2018-06-17 20:46:...|Is electron/photo...|    6|           1|\n",
      "|     239505|2016-02-24 05:51:...|conditions for so...|    2|           1|\n",
      "|     300744|2016-12-24 13:14:...|Maxwell equations...|   12|           2|\n",
      "|     217315|2015-11-08 04:13:...|Is the direction ...|   11|           3|\n",
      "|     334778|2017-05-22 09:58:...|Why are fluctatio...|    5|           1|\n",
      "|     168536|2015-03-05 03:52:...|Why is it hard to...|    3|           2|\n",
      "|     168536|2015-03-05 03:52:...|Why is it hard to...|    4|           1|\n",
      "|     418851|2018-07-21 22:45:...|What is the diffe...|    7|           1|\n",
      "+-----------+--------------------+--------------------+-----+------------+\n",
      "only showing top 20 rows\n",
      "\n"
     ]
    }
   ],
   "source": [
    "# 3. Caching and coalescing\n",
    "aggDF_2.unpersist()\n",
    "aggDF_3 = aggDF_1.coalesce(4).cache()\n",
    "result_3_DF = questionsDF.join(aggDF_3, 'question_id') \\\n",
    "    .select('question_id', 'creation_date', 'title', 'month', 'answer_count')\n",
    "result_3_DF.show()"
   ]
  },
  {
   "cell_type": "code",
   "execution_count": 10,
   "metadata": {},
   "outputs": [
    {
     "name": "stdout",
     "output_type": "stream",
     "text": [
      "+-----------+--------------------+--------------------+-----+------------+\n",
      "|question_id|       creation_date|               title|month|answer_count|\n",
      "+-----------+--------------------+--------------------+-----+------------+\n",
      "|     382738|2018-01-28 02:22:...|What is the pseud...|    1|           1|\n",
      "|     370717|2017-11-25 04:09:...|What is the defin...|   11|           1|\n",
      "|     339944|2017-06-17 16:32:...|Could gravitation...|    6|           3|\n",
      "|     233852|2016-02-04 16:19:...|When does travell...|    2|           2|\n",
      "|     173819|2015-04-02 11:56:...|Finding Magnetic ...|    4|           1|\n",
      "|     265198|2016-06-28 10:56:...|Physical meaning ...|    6|           2|\n",
      "|     175015|2015-04-08 21:24:...|Understanding a m...|    4|           1|\n",
      "|     413973|2018-06-27 09:29:...|Incorporate spino...|    6|           1|\n",
      "|     303670|2017-01-08 01:05:...|A Wilson line pro...|    1|           1|\n",
      "|     317368|2017-03-08 14:53:...|Shouldn't Torsion...|    3|           1|\n",
      "|     369982|2017-11-20 22:11:...|Incompressible in...|   11|           2|\n",
      "|     239745|2016-02-25 03:51:...|Is this correct? ...|    2|           3|\n",
      "|     412294|2018-06-17 20:46:...|Is electron/photo...|    6|           1|\n",
      "|     239505|2016-02-24 05:51:...|conditions for so...|    2|           1|\n",
      "|     300744|2016-12-24 13:14:...|Maxwell equations...|   12|           2|\n",
      "|     217315|2015-11-08 04:13:...|Is the direction ...|   11|           3|\n",
      "|     334778|2017-05-22 09:58:...|Why are fluctatio...|    5|           1|\n",
      "|     168536|2015-03-05 03:52:...|Why is it hard to...|    3|           2|\n",
      "|     168536|2015-03-05 03:52:...|Why is it hard to...|    4|           1|\n",
      "|     418851|2018-07-21 22:45:...|What is the diffe...|    7|           1|\n",
      "+-----------+--------------------+--------------------+-----+------------+\n",
      "only showing top 20 rows\n",
      "\n"
     ]
    }
   ],
   "source": [
    "# 4. No caching, coalescing\n",
    "aggDF_3.unpersist()\n",
    "aggDF_4 = aggDF_1.coalesce(4)\n",
    "result_4_DF = questionsDF.join(aggDF_4, 'question_id') \\\n",
    "    .select('question_id', 'creation_date', 'title', 'month', 'answer_count')\n",
    "result_4_DF.show()"
   ]
  },
  {
   "cell_type": "markdown",
   "metadata": {},
   "source": [
    "### Results\n",
    "\n",
    "| Method                    | Execution time (s)|\n",
    "|---------------------------|-------------------|\n",
    "| No caching, no coalescing | 1                 |\n",
    "| Caching, no coalescing    | 1                 |\n",
    "| Caching and coalescing    | 0.5               |\n",
    "| No caching, coalescing    | 0.6               |\n",
    "\n",
    "### Summary\n",
    "\n",
    "As you can see from the results, coalescing makes the biggest difference in optimizing execution time - the coalesced results ran about twice as fast as the non-coalesced ones regardless of caching. With such a small dataset, caching appears not to be worth it. With larger datasets and more complicated queries, this may be different.\n",
    "\n",
    "There are no further optimizations to make, as we've kept shuffling to a minimum - just one shuffle for the grouping in creating the aggregated DF."
   ]
  }
 ],
 "metadata": {
  "kernelspec": {
   "display_name": "Python 3",
   "language": "python",
   "name": "python3"
  },
  "language_info": {
   "codemirror_mode": {
    "name": "ipython",
    "version": 3
   },
   "file_extension": ".py",
   "mimetype": "text/x-python",
   "name": "python",
   "nbconvert_exporter": "python",
   "pygments_lexer": "ipython3",
   "version": "3.8.3"
  }
 },
 "nbformat": 4,
 "nbformat_minor": 4
}
